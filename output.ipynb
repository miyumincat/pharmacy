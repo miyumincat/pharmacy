{
 "cells": [
  {
   "cell_type": "code",
   "execution_count": 1,
   "metadata": {},
   "outputs": [
    {
     "name": "stdout",
     "output_type": "stream",
     "text": [
      "b'<?xml version=\"1.0\" encoding=\"UTF-8\" standalone=\"yes\"?><response><header><resultCode>00</resultCode><resultMsg>NORMAL SERVICE.</resultMsg></header><body><items><item><dutyAddr>\\xec\\x84\\x9c\\xec\\x9a\\xb8\\xed\\x8a\\xb9\\xeb\\xb3\\x84\\xec\\x8b\\x9c \\xea\\xb0\\x95\\xeb\\x82\\xa8\\xea\\xb5\\xac \\xec\\x9d\\xbc\\xec\\x9b\\x90\\xeb\\xa1\\x9c 53 (\\xec\\x9d\\xbc\\xec\\x9b\\x90\\xeb\\x8f\\x99) </dutyAddr><dutyMapimg>\\xec\\x86\\x8c\\xeb\\xa6\\xbc\\xeb\\xb9\\x8c\\xeb\\x94\\xa9 1\\xec\\xb8\\xb5</dutyMapimg><dutyName>E-\\xec\\x82\\xbc\\xec\\x84\\xb1\\xec\\x95\\xbd\\xea\\xb5\\xad</dutyName><dutyTel1>02-3412-1254</dutyTel1><dutyTime1c>1900</dutyTime1c><dutyTime1s>0900</dutyTime1s><dutyTime2c>1900</dutyTime2c><dutyTime2s>0900</dutyTime2s><dutyTime3c>1900</dutyTime3c><dutyTime3s>0900</dutyTime3s><dutyTime4c>1900</dutyTime4c><dutyTime4s>0900</dutyTime4s><dutyTime5c>1900</dutyTime5c><dutyTime5s>0900</dutyTime5s><dutyTime6c>1300</dutyTime6c><dutyTime6s>0900</dutyTime6s><hpid>C1104799</hpid><postCdn1>063</postCdn1><postCdn2>43 </postCdn2><rnum>1</rnum><wgs84Lat>37.48926299528938</wgs84Lat><wgs84Lon>127.08181088280385</wgs84Lon></item><item><dutyAddr>\\xec\\x84\\x9c\\xec\\x9a\\xb8\\xed\\x8a\\xb9\\xeb\\xb3\\x84\\xec\\x8b\\x9c \\xea\\xb0\\x95\\xeb\\x82\\xa8\\xea\\xb5\\xac \\xec\\x9d\\xbc\\xec\\x9b\\x90\\xeb\\xa1\\x9c 45, \\xeb\\x8c\\x80\\xed\\x9b\\x88\\xeb\\xb9\\x8c\\xeb\\x94\\xa9 1\\xec\\xb8\\xb5 (\\xec\\x9d\\xbc\\xec\\x9b\\x90\\xeb\\x8f\\x99)</dutyAddr><dutyMapimg>\\xeb\\x8c\\x80\\xec\\xb2\\xad\\xec\\x97\\xad 4\\xeb\\xb2\\x88\\xec\\xb6\\x9c\\xea\\xb5\\xac\\xec\\x97\\x90\\xec\\x84\\x9c 423m</dutyMapimg><dutyName>\\xeb\\xac\\xb4\\xec\\xa7\\x80\\xea\\xb0\\x9c\\xec\\x82\\xbc\\xec\\x84\\xb1\\xec\\x95\\xbd\\xea\\xb5\\xad</dutyName><dutyTel1>02-2226-5467</dutyTel1><dutyTime1c>1900</dutyTime1c><dutyTime1s>0900</dutyTime1s><dutyTime2c>1900</dutyTime2c><dutyTime2s>0900</dutyTime2s><dutyTime3c>1900</dutyTime3c><dutyTime3s>0900</dutyTime3s><dutyTime4c>1900</dutyTime4c><dutyTime4s>0900</dutyTime4s><dutyTime5c>1900</dutyTime5c><dutyTime5s>0900</dutyTime5s><dutyTime6c>1300</dutyTime6c><dutyTime6s>0900</dutyTime6s><hpid>C1109561</hpid><postCdn1>063</postCdn1><postCdn2>43 </postCdn2><rnum>2</rnum><wgs84Lat>37.489904628125</wgs84Lat><wgs84Lon>127.08151340546</wgs84Lon></item><item><dutyAddr>\\xec\\x84\\x9c\\xec\\x9a\\xb8\\xed\\x8a\\xb9\\xeb\\xb3\\x84\\xec\\x8b\\x9c \\xea\\xb0\\x95\\xeb\\x82\\xa8\\xea\\xb5\\xac \\xea\\xb4\\x91\\xed\\x8f\\x89\\xeb\\xa1\\x9c19\\xea\\xb8\\xb8 10, 101\\xed\\x98\\xb8 (\\xec\\x88\\x98\\xec\\x84\\x9c\\xeb\\x8f\\x99, \\xea\\xb9\\x8c\\xec\\xb9\\x98\\xeb\\xa7\\x88\\xec\\x9d\\x84\\xec\\x95\\x84\\xed\\x8c\\x8c\\xed\\x8a\\xb8\\xec\\x83\\x81\\xea\\xb0\\x80)</dutyAddr><dutyMapimg>\\xec\\x82\\xbc\\xec\\x84\\xb1\\xec\\x9d\\x98\\xeb\\xa3\\x8c\\xec\\x9b\\x9010\\xeb\\xb2\\x88\\xec\\xb6\\x9c\\xea\\xb7\\xbc\\xec\\xb2\\x98/\\xea\\xb9\\x8c\\xec\\xb9\\x98\\xeb\\xa7\\x88\\xec\\x9d\\x84\\xec\\x95\\x84\\xed\\x8c\\x8c\\xed\\x8a\\xb8\\xec\\x83\\x81\\xea\\xb0\\x80 101\\xed\\x98\\xb8</dutyMapimg><dutyName>\\xec\\x82\\xbc\\xec\\x84\\xb1\\xec\\x95\\xbd\\xea\\xb5\\xad</dutyName><dutyTel1>02-451-7281</dutyTel1><dutyTime1c>2030</dutyTime1c><dutyTime1s>0900</dutyTime1s><dutyTime2c>2030</dutyTime2c><dutyTime2s>0900</dutyTime2s><dutyTime3c>2030</dutyTime3c><dutyTime3s>0900</dutyTime3s><dutyTime4c>2030</dutyTime4c><dutyTime4s>0900</dutyTime4s><dutyTime5c>2030</dutyTime5c><dutyTime5s>0900</dutyTime5s><dutyTime6c>2030</dutyTime6c><dutyTime6s>0900</dutyTime6s><hpid>C1101446</hpid><postCdn1>063</postCdn1><postCdn2>54 </postCdn2><rnum>3</rnum><wgs84Lat>37.4854861607</wgs84Lat><wgs84Lon>127.086600835</wgs84Lon></item><item><dutyAddr>\\xec\\x84\\x9c\\xec\\x9a\\xb8\\xed\\x8a\\xb9\\xeb\\xb3\\x84\\xec\\x8b\\x9c \\xea\\xb0\\x95\\xeb\\x82\\xa8\\xea\\xb5\\xac \\xec\\x9d\\xbc\\xec\\x9b\\x90\\xeb\\xa1\\x9c 53, 1\\xec\\xb8\\xb5 (\\xec\\x9d\\xbc\\xec\\x9b\\x90\\xeb\\x8f\\x99, \\xec\\x86\\x8c\\xeb\\xa6\\xbc\\xeb\\xb9\\x8c\\xeb\\x94\\xa9)</dutyAddr><dutyName>\\xec\\x9d\\xb4\\xec\\x82\\xbc\\xec\\x84\\xb1\\xec\\x95\\xbd\\xea\\xb5\\xad</dutyName><dutyTel1>02-3412-1254</dutyTel1><dutyTime1c>1900</dutyTime1c><dutyTime1s>0900</dutyTime1s><dutyTime2c>1900</dutyTime2c><dutyTime2s>0900</dutyTime2s><dutyTime3c>1900</dutyTime3c><dutyTime3s>0900</dutyTime3s><dutyTime4c>1900</dutyTime4c><dutyTime4s>0900</dutyTime4s><dutyTime5c>1900</dutyTime5c><dutyTime5s>0900</dutyTime5s><dutyTime6c>1300</dutyTime6c><dutyTime6s>0900</dutyTime6s><hpid>C1109216</hpid><postCdn1>063</postCdn1><postCdn2>43 </postCdn2><rnum>4</rnum><wgs84Lat>37.4892626357407</wgs84Lat><wgs84Lon>127.081809638604</wgs84Lon></item></items><numOfRows>10</numOfRows><pageNo>1</pageNo><totalCount>4</totalCount></body></response>'\n"
     ]
    }
   ],
   "source": [
    "import requests\n",
    "import pprint\n",
    "\n",
    "#인증키 입력\n",
    "encoding = 'yq6imB%2FvI7y9o7MprBjV1dvk2R33RyJ3Vc1Q9gizvfniP%2BqQaOKd1FdxJFE%2FqR4ay7okSCbOK39h0dPYuxxe0g%3D%3D'\n",
    "decoding = 'yq6imB/vI7y9o7MprBjV1dvk2R33RyJ3Vc1Q9gizvfniP+qQaOKd1FdxJFE/qR4ay7okSCbOK39h0dPYuxxe0g=='\n",
    "\n",
    "#url 입력\n",
    "\n",
    "import requests\n",
    "\n",
    "url = 'http://apis.data.go.kr/B552657/ErmctInsttInfoInqireService/getParmacyListInfoInqire'\n",
    "params ={'serviceKey' : 'yq6imB/vI7y9o7MprBjV1dvk2R33RyJ3Vc1Q9gizvfniP+qQaOKd1FdxJFE/qR4ay7okSCbOK39h0dPYuxxe0g==', \n",
    "         'Q0' : '서울특별시', 'Q1' : '강남구', 'QT' : '1', 'QN' : '삼성약국', 'ORD' : 'NAME', 'pageNo' : '1', 'numOfRows' : '10' \n",
    "         }\n",
    "\n",
    "response = requests.get(url, params=params)\n",
    "print(response.content)\n",
    "\n",
    "response = requests.get(url, params=params)\n",
    "\n",
    "# xml 내용\n",
    "content = response.text\n",
    "\n",
    "\n"
   ]
  },
  {
   "cell_type": "code",
   "execution_count": 2,
   "metadata": {},
   "outputs": [
    {
     "name": "stdout",
     "output_type": "stream",
     "text": [
      "('<?xml version=\"1.0\" encoding=\"UTF-8\" '\n",
      " 'standalone=\"yes\"?><response><header><resultCode>00</resultCode><resultMsg>NORMAL '\n",
      " 'SERVICE.</resultMsg></header><body><items><item><dutyAddr>서울특별시 강남구 일원로 53 '\n",
      " '(일원동) </dutyAddr><dutyMapimg>소림빌딩 '\n",
      " '1층</dutyMapimg><dutyName>E-삼성약국</dutyName><dutyTel1>02-3412-1254</dutyTel1><dutyTime1c>1900</dutyTime1c><dutyTime1s>0900</dutyTime1s><dutyTime2c>1900</dutyTime2c><dutyTime2s>0900</dutyTime2s><dutyTime3c>1900</dutyTime3c><dutyTime3s>0900</dutyTime3s><dutyTime4c>1900</dutyTime4c><dutyTime4s>0900</dutyTime4s><dutyTime5c>1900</dutyTime5c><dutyTime5s>0900</dutyTime5s><dutyTime6c>1300</dutyTime6c><dutyTime6s>0900</dutyTime6s><hpid>C1104799</hpid><postCdn1>063</postCdn1><postCdn2>43 '\n",
      " '</postCdn2><rnum>1</rnum><wgs84Lat>37.48926299528938</wgs84Lat><wgs84Lon>127.08181088280385</wgs84Lon></item><item><dutyAddr>서울특별시 '\n",
      " '강남구 일원로 45, 대훈빌딩 1층 (일원동)</dutyAddr><dutyMapimg>대청역 4번출구에서 '\n",
      " '423m</dutyMapimg><dutyName>무지개삼성약국</dutyName><dutyTel1>02-2226-5467</dutyTel1><dutyTime1c>1900</dutyTime1c><dutyTime1s>0900</dutyTime1s><dutyTime2c>1900</dutyTime2c><dutyTime2s>0900</dutyTime2s><dutyTime3c>1900</dutyTime3c><dutyTime3s>0900</dutyTime3s><dutyTime4c>1900</dutyTime4c><dutyTime4s>0900</dutyTime4s><dutyTime5c>1900</dutyTime5c><dutyTime5s>0900</dutyTime5s><dutyTime6c>1300</dutyTime6c><dutyTime6s>0900</dutyTime6s><hpid>C1109561</hpid><postCdn1>063</postCdn1><postCdn2>43 '\n",
      " '</postCdn2><rnum>2</rnum><wgs84Lat>37.489904628125</wgs84Lat><wgs84Lon>127.08151340546</wgs84Lon></item><item><dutyAddr>서울특별시 '\n",
      " '강남구 광평로19길 10, 101호 (수서동, '\n",
      " '까치마을아파트상가)</dutyAddr><dutyMapimg>삼성의료원10번출근처/까치마을아파트상가 '\n",
      " '101호</dutyMapimg><dutyName>삼성약국</dutyName><dutyTel1>02-451-7281</dutyTel1><dutyTime1c>2030</dutyTime1c><dutyTime1s>0900</dutyTime1s><dutyTime2c>2030</dutyTime2c><dutyTime2s>0900</dutyTime2s><dutyTime3c>2030</dutyTime3c><dutyTime3s>0900</dutyTime3s><dutyTime4c>2030</dutyTime4c><dutyTime4s>0900</dutyTime4s><dutyTime5c>2030</dutyTime5c><dutyTime5s>0900</dutyTime5s><dutyTime6c>2030</dutyTime6c><dutyTime6s>0900</dutyTime6s><hpid>C1101446</hpid><postCdn1>063</postCdn1><postCdn2>54 '\n",
      " '</postCdn2><rnum>3</rnum><wgs84Lat>37.4854861607</wgs84Lat><wgs84Lon>127.086600835</wgs84Lon></item><item><dutyAddr>서울특별시 '\n",
      " '강남구 일원로 53, 1층 (일원동, '\n",
      " '소림빌딩)</dutyAddr><dutyName>이삼성약국</dutyName><dutyTel1>02-3412-1254</dutyTel1><dutyTime1c>1900</dutyTime1c><dutyTime1s>0900</dutyTime1s><dutyTime2c>1900</dutyTime2c><dutyTime2s>0900</dutyTime2s><dutyTime3c>1900</dutyTime3c><dutyTime3s>0900</dutyTime3s><dutyTime4c>1900</dutyTime4c><dutyTime4s>0900</dutyTime4s><dutyTime5c>1900</dutyTime5c><dutyTime5s>0900</dutyTime5s><dutyTime6c>1300</dutyTime6c><dutyTime6s>0900</dutyTime6s><hpid>C1109216</hpid><postCdn1>063</postCdn1><postCdn2>43 '\n",
      " '</postCdn2><rnum>4</rnum><wgs84Lat>37.4892626357407</wgs84Lat><wgs84Lon>127.081809638604</wgs84Lon></item></items><numOfRows>10</numOfRows><pageNo>1</pageNo><totalCount>4</totalCount></body></response>')\n",
      "None\n"
     ]
    }
   ],
   "source": [
    "# 깔끔한 출력 위한 코드\n",
    "pp = pprint.PrettyPrinter(indent=4)\n",
    "print(pp.pprint(content))"
   ]
  },
  {
   "cell_type": "code",
   "execution_count": 3,
   "metadata": {},
   "outputs": [],
   "source": [
    "### xml을 DataFrame으로 변환하기 ###\n",
    "from os import name\n",
    "import xml.etree.ElementTree as et\n",
    "import pandas as pd\n",
    "import bs4\n",
    "from lxml import html\n",
    "from urllib.parse import urlencode, quote_plus, unquote"
   ]
  },
  {
   "cell_type": "code",
   "execution_count": 4,
   "metadata": {},
   "outputs": [
    {
     "data": {
      "text/plain": [
       "'\\nQ0 : 주소(시도)\\nQ1: 주소(시군구)\\nQT: 진료요일 \\nQN: 기관명\\nORD: 순서\\npageNo: 페이지번호\\nnumOfRows: 목록건수\\n'"
      ]
     },
     "execution_count": 4,
     "metadata": {},
     "output_type": "execute_result"
    }
   ],
   "source": [
    "\"\"\"\n",
    "Q0 : 주소(시도)\n",
    "Q1: 주소(시군구)\n",
    "QT: 진료요일 \n",
    "QN: 기관명\n",
    "ORD: 순서\n",
    "pageNo: 페이지번호\n",
    "numOfRows: 목록건수\n",
    "\"\"\""
   ]
  },
  {
   "cell_type": "code",
   "execution_count": 5,
   "metadata": {},
   "outputs": [
    {
     "name": "stdout",
     "output_type": "stream",
     "text": [
      "[<item><dutyAddr>서울특별시 강남구 일원로 53 (일원동) </dutyAddr><dutyMapimg>소림빌딩 1층</dutyMapimg><dutyName>E-삼성약국</dutyName><dutyTel1>02-3412-1254</dutyTel1><dutyTime1c>1900</dutyTime1c><dutyTime1s>0900</dutyTime1s><dutyTime2c>1900</dutyTime2c><dutyTime2s>0900</dutyTime2s><dutyTime3c>1900</dutyTime3c><dutyTime3s>0900</dutyTime3s><dutyTime4c>1900</dutyTime4c><dutyTime4s>0900</dutyTime4s><dutyTime5c>1900</dutyTime5c><dutyTime5s>0900</dutyTime5s><dutyTime6c>1300</dutyTime6c><dutyTime6s>0900</dutyTime6s><hpid>C1104799</hpid><postCdn1>063</postCdn1><postCdn2>43 </postCdn2><rnum>1</rnum><wgs84Lat>37.48926299528938</wgs84Lat><wgs84Lon>127.08181088280385</wgs84Lon></item>, <item><dutyAddr>서울특별시 강남구 일원로 45, 대훈빌딩 1층 (일원동)</dutyAddr><dutyMapimg>대청역 4번출구에서 423m</dutyMapimg><dutyName>무지개삼성약국</dutyName><dutyTel1>02-2226-5467</dutyTel1><dutyTime1c>1900</dutyTime1c><dutyTime1s>0900</dutyTime1s><dutyTime2c>1900</dutyTime2c><dutyTime2s>0900</dutyTime2s><dutyTime3c>1900</dutyTime3c><dutyTime3s>0900</dutyTime3s><dutyTime4c>1900</dutyTime4c><dutyTime4s>0900</dutyTime4s><dutyTime5c>1900</dutyTime5c><dutyTime5s>0900</dutyTime5s><dutyTime6c>1300</dutyTime6c><dutyTime6s>0900</dutyTime6s><hpid>C1109561</hpid><postCdn1>063</postCdn1><postCdn2>43 </postCdn2><rnum>2</rnum><wgs84Lat>37.489904628125</wgs84Lat><wgs84Lon>127.08151340546</wgs84Lon></item>, <item><dutyAddr>서울특별시 강남구 광평로19길 10, 101호 (수서동, 까치마을아파트상가)</dutyAddr><dutyMapimg>삼성의료원10번출근처/까치마을아파트상가 101호</dutyMapimg><dutyName>삼성약국</dutyName><dutyTel1>02-451-7281</dutyTel1><dutyTime1c>2030</dutyTime1c><dutyTime1s>0900</dutyTime1s><dutyTime2c>2030</dutyTime2c><dutyTime2s>0900</dutyTime2s><dutyTime3c>2030</dutyTime3c><dutyTime3s>0900</dutyTime3s><dutyTime4c>2030</dutyTime4c><dutyTime4s>0900</dutyTime4s><dutyTime5c>2030</dutyTime5c><dutyTime5s>0900</dutyTime5s><dutyTime6c>2030</dutyTime6c><dutyTime6s>0900</dutyTime6s><hpid>C1101446</hpid><postCdn1>063</postCdn1><postCdn2>54 </postCdn2><rnum>3</rnum><wgs84Lat>37.4854861607</wgs84Lat><wgs84Lon>127.086600835</wgs84Lon></item>, <item><dutyAddr>서울특별시 강남구 일원로 53, 1층 (일원동, 소림빌딩)</dutyAddr><dutyName>이삼성약국</dutyName><dutyTel1>02-3412-1254</dutyTel1><dutyTime1c>1900</dutyTime1c><dutyTime1s>0900</dutyTime1s><dutyTime2c>1900</dutyTime2c><dutyTime2s>0900</dutyTime2s><dutyTime3c>1900</dutyTime3c><dutyTime3s>0900</dutyTime3s><dutyTime4c>1900</dutyTime4c><dutyTime4s>0900</dutyTime4s><dutyTime5c>1900</dutyTime5c><dutyTime5s>0900</dutyTime5s><dutyTime6c>1300</dutyTime6c><dutyTime6s>0900</dutyTime6s><hpid>C1109216</hpid><postCdn1>063</postCdn1><postCdn2>43 </postCdn2><rnum>4</rnum><wgs84Lat>37.4892626357407</wgs84Lat><wgs84Lon>127.081809638604</wgs84Lon></item>]\n"
     ]
    }
   ],
   "source": [
    "xml_obj = bs4.BeautifulSoup(content,'lxml-xml')\n",
    "rows = xml_obj.findAll('item')\n",
    "print(rows)"
   ]
  },
  {
   "cell_type": "code",
   "execution_count": 8,
   "metadata": {},
   "outputs": [],
   "source": [
    "# 각 행의 컬럼, 이름, 값을 가지는 리스트 만들기\n",
    "row_list = [] # 행값\n",
    "name_list = [] # 열이름값\n",
    "value_list = [] #데이터값\n",
    "\n",
    "# xml 안의 데이터 수집\n",
    "for i in range(0, len(rows)):\n",
    "    columns = rows[i].find_all()\n",
    "    #첫째 행 데이터 수집\n",
    "    for j in range(0,len(columns)):\n",
    "        if i ==0:\n",
    "            # 컬럼 이름 값 저장\n",
    "            name_list.append(columns[j].name)\n",
    "        # 컬럼의 각 데이터 값 저장\n",
    "        value_list.append(columns[j].text)\n",
    "    # 각 행의 value값 전체 저장\n",
    "    row_list.append(value_list)\n",
    "    # 데이터 리스트 값 초기화\n",
    "    value_list=[]"
   ]
  },
  {
   "cell_type": "code",
   "execution_count": 16,
   "metadata": {},
   "outputs": [
    {
     "name": "stdout",
     "output_type": "stream",
     "text": [
      "                                     dutyAddr                  dutyMapimg  \\\n",
      "0                     서울특별시 강남구 일원로 53 (일원동)                      소림빌딩 1층   \n",
      "1             서울특별시 강남구 일원로 45, 대훈빌딩 1층 (일원동)             대청역 4번출구에서 423m   \n",
      "2  서울특별시 강남구 광평로19길 10, 101호 (수서동, 까치마을아파트상가)  삼성의료원10번출근처/까치마을아파트상가 101호   \n",
      "3            서울특별시 강남구 일원로 53, 1층 (일원동, 소림빌딩)                       이삼성약국   \n",
      "\n",
      "       dutyName      dutyTel1 dutyTime1c dutyTime1s dutyTime2c dutyTime2s  \\\n",
      "0        E-삼성약국  02-3412-1254       1900       0900       1900       0900   \n",
      "1       무지개삼성약국  02-2226-5467       1900       0900       1900       0900   \n",
      "2          삼성약국   02-451-7281       2030       0900       2030       0900   \n",
      "3  02-3412-1254          1900       0900       1900       0900       1900   \n",
      "\n",
      "  dutyTime3c dutyTime3s  ... dutyTime5c dutyTime5s dutyTime6c dutyTime6s  \\\n",
      "0       1900       0900  ...       1900       0900       1300       0900   \n",
      "1       1900       0900  ...       1900       0900       1300       0900   \n",
      "2       2030       0900  ...       2030       0900       2030       0900   \n",
      "3       0900       1900  ...       0900       1300       0900   C1109216   \n",
      "\n",
      "       hpid postCdn1 postCdn2              rnum           wgs84Lat  \\\n",
      "0  C1104799      063      43                  1  37.48926299528938   \n",
      "1  C1109561      063      43                  2    37.489904628125   \n",
      "2  C1101446      063      54                  3      37.4854861607   \n",
      "3       063      43         4  37.4892626357407   127.081809638604   \n",
      "\n",
      "             wgs84Lon  \n",
      "0  127.08181088280385  \n",
      "1     127.08151340546  \n",
      "2       127.086600835  \n",
      "3                None  \n",
      "\n",
      "[4 rows x 22 columns]\n"
     ]
    }
   ],
   "source": [
    "\n",
    "pharmacy_df = pd.DataFrame(row_list, columns=name_list)\n",
    "print(pharmacy_df.head(19))"
   ]
  },
  {
   "cell_type": "code",
   "execution_count": 9,
   "metadata": {},
   "outputs": [
    {
     "data": {
      "text/html": [
       "<div>\n",
       "<style scoped>\n",
       "    .dataframe tbody tr th:only-of-type {\n",
       "        vertical-align: middle;\n",
       "    }\n",
       "\n",
       "    .dataframe tbody tr th {\n",
       "        vertical-align: top;\n",
       "    }\n",
       "\n",
       "    .dataframe thead th {\n",
       "        text-align: right;\n",
       "    }\n",
       "</style>\n",
       "<table border=\"1\" class=\"dataframe\">\n",
       "  <thead>\n",
       "    <tr style=\"text-align: right;\">\n",
       "      <th></th>\n",
       "      <th>0</th>\n",
       "      <th>1</th>\n",
       "      <th>2</th>\n",
       "      <th>3</th>\n",
       "      <th>4</th>\n",
       "      <th>5</th>\n",
       "      <th>6</th>\n",
       "      <th>7</th>\n",
       "      <th>8</th>\n",
       "      <th>9</th>\n",
       "      <th>...</th>\n",
       "      <th>12</th>\n",
       "      <th>13</th>\n",
       "      <th>14</th>\n",
       "      <th>15</th>\n",
       "      <th>16</th>\n",
       "      <th>17</th>\n",
       "      <th>18</th>\n",
       "      <th>19</th>\n",
       "      <th>20</th>\n",
       "      <th>21</th>\n",
       "    </tr>\n",
       "  </thead>\n",
       "  <tbody>\n",
       "    <tr>\n",
       "      <th>0</th>\n",
       "      <td>서울특별시 강남구 일원로 53 (일원동)</td>\n",
       "      <td>소림빌딩 1층</td>\n",
       "      <td>E-삼성약국</td>\n",
       "      <td>02-3412-1254</td>\n",
       "      <td>1900</td>\n",
       "      <td>0900</td>\n",
       "      <td>1900</td>\n",
       "      <td>0900</td>\n",
       "      <td>1900</td>\n",
       "      <td>0900</td>\n",
       "      <td>...</td>\n",
       "      <td>1900</td>\n",
       "      <td>0900</td>\n",
       "      <td>1300</td>\n",
       "      <td>0900</td>\n",
       "      <td>C1104799</td>\n",
       "      <td>063</td>\n",
       "      <td>43</td>\n",
       "      <td>1</td>\n",
       "      <td>37.48926299528938</td>\n",
       "      <td>127.08181088280385</td>\n",
       "    </tr>\n",
       "    <tr>\n",
       "      <th>1</th>\n",
       "      <td>서울특별시 강남구 일원로 45, 대훈빌딩 1층 (일원동)</td>\n",
       "      <td>대청역 4번출구에서 423m</td>\n",
       "      <td>무지개삼성약국</td>\n",
       "      <td>02-2226-5467</td>\n",
       "      <td>1900</td>\n",
       "      <td>0900</td>\n",
       "      <td>1900</td>\n",
       "      <td>0900</td>\n",
       "      <td>1900</td>\n",
       "      <td>0900</td>\n",
       "      <td>...</td>\n",
       "      <td>1900</td>\n",
       "      <td>0900</td>\n",
       "      <td>1300</td>\n",
       "      <td>0900</td>\n",
       "      <td>C1109561</td>\n",
       "      <td>063</td>\n",
       "      <td>43</td>\n",
       "      <td>2</td>\n",
       "      <td>37.489904628125</td>\n",
       "      <td>127.08151340546</td>\n",
       "    </tr>\n",
       "    <tr>\n",
       "      <th>2</th>\n",
       "      <td>서울특별시 강남구 광평로19길 10, 101호 (수서동, 까치마을아파트상가)</td>\n",
       "      <td>삼성의료원10번출근처/까치마을아파트상가 101호</td>\n",
       "      <td>삼성약국</td>\n",
       "      <td>02-451-7281</td>\n",
       "      <td>2030</td>\n",
       "      <td>0900</td>\n",
       "      <td>2030</td>\n",
       "      <td>0900</td>\n",
       "      <td>2030</td>\n",
       "      <td>0900</td>\n",
       "      <td>...</td>\n",
       "      <td>2030</td>\n",
       "      <td>0900</td>\n",
       "      <td>2030</td>\n",
       "      <td>0900</td>\n",
       "      <td>C1101446</td>\n",
       "      <td>063</td>\n",
       "      <td>54</td>\n",
       "      <td>3</td>\n",
       "      <td>37.4854861607</td>\n",
       "      <td>127.086600835</td>\n",
       "    </tr>\n",
       "    <tr>\n",
       "      <th>3</th>\n",
       "      <td>서울특별시 강남구 일원로 53, 1층 (일원동, 소림빌딩)</td>\n",
       "      <td>이삼성약국</td>\n",
       "      <td>02-3412-1254</td>\n",
       "      <td>1900</td>\n",
       "      <td>0900</td>\n",
       "      <td>1900</td>\n",
       "      <td>0900</td>\n",
       "      <td>1900</td>\n",
       "      <td>0900</td>\n",
       "      <td>1900</td>\n",
       "      <td>...</td>\n",
       "      <td>0900</td>\n",
       "      <td>1300</td>\n",
       "      <td>0900</td>\n",
       "      <td>C1109216</td>\n",
       "      <td>063</td>\n",
       "      <td>43</td>\n",
       "      <td>4</td>\n",
       "      <td>37.4892626357407</td>\n",
       "      <td>127.081809638604</td>\n",
       "      <td>None</td>\n",
       "    </tr>\n",
       "  </tbody>\n",
       "</table>\n",
       "<p>4 rows × 22 columns</p>\n",
       "</div>"
      ],
      "text/plain": [
       "                                           0                           1   \\\n",
       "0                     서울특별시 강남구 일원로 53 (일원동)                      소림빌딩 1층   \n",
       "1             서울특별시 강남구 일원로 45, 대훈빌딩 1층 (일원동)             대청역 4번출구에서 423m   \n",
       "2  서울특별시 강남구 광평로19길 10, 101호 (수서동, 까치마을아파트상가)  삼성의료원10번출근처/까치마을아파트상가 101호   \n",
       "3            서울특별시 강남구 일원로 53, 1층 (일원동, 소림빌딩)                       이삼성약국   \n",
       "\n",
       "             2             3     4     5     6     7     8     9   ...    12  \\\n",
       "0        E-삼성약국  02-3412-1254  1900  0900  1900  0900  1900  0900  ...  1900   \n",
       "1       무지개삼성약국  02-2226-5467  1900  0900  1900  0900  1900  0900  ...  1900   \n",
       "2          삼성약국   02-451-7281  2030  0900  2030  0900  2030  0900  ...  2030   \n",
       "3  02-3412-1254          1900  0900  1900  0900  1900  0900  1900  ...  0900   \n",
       "\n",
       "     13    14        15        16   17   18                19  \\\n",
       "0  0900  1300      0900  C1104799  063  43                  1   \n",
       "1  0900  1300      0900  C1109561  063  43                  2   \n",
       "2  0900  2030      0900  C1101446  063  54                  3   \n",
       "3  1300  0900  C1109216       063  43     4  37.4892626357407   \n",
       "\n",
       "                  20                  21  \n",
       "0  37.48926299528938  127.08181088280385  \n",
       "1    37.489904628125     127.08151340546  \n",
       "2      37.4854861607       127.086600835  \n",
       "3   127.081809638604                None  \n",
       "\n",
       "[4 rows x 22 columns]"
      ]
     },
     "execution_count": 9,
     "metadata": {},
     "output_type": "execute_result"
    }
   ],
   "source": [
    "pd.DataFrame(row_list)"
   ]
  },
  {
   "cell_type": "code",
   "execution_count": 10,
   "metadata": {},
   "outputs": [
    {
     "name": "stdout",
     "output_type": "stream",
     "text": [
      "[['서울특별시 강남구 일원로 53 (일원동) ', '소림빌딩 1층', 'E-삼성약국', '02-3412-1254', '1900', '0900', '1900', '0900', '1900', '0900', '1900', '0900', '1900', '0900', '1300', '0900', 'C1104799', '063', '43 ', '1', '37.48926299528938', '127.08181088280385'], ['서울특별시 강남구 일원로 45, 대훈빌딩 1층 (일원동)', '대청역 4번출구에서 423m', '무지개삼성약국', '02-2226-5467', '1900', '0900', '1900', '0900', '1900', '0900', '1900', '0900', '1900', '0900', '1300', '0900', 'C1109561', '063', '43 ', '2', '37.489904628125', '127.08151340546'], ['서울특별시 강남구 광평로19길 10, 101호 (수서동, 까치마을아파트상가)', '삼성의료원10번출근처/까치마을아파트상가 101호', '삼성약국', '02-451-7281', '2030', '0900', '2030', '0900', '2030', '0900', '2030', '0900', '2030', '0900', '2030', '0900', 'C1101446', '063', '54 ', '3', '37.4854861607', '127.086600835'], ['서울특별시 강남구 일원로 53, 1층 (일원동, 소림빌딩)', '이삼성약국', '02-3412-1254', '1900', '0900', '1900', '0900', '1900', '0900', '1900', '0900', '1900', '0900', '1300', '0900', 'C1109216', '063', '43 ', '4', '37.4892626357407', '127.081809638604']]\n"
     ]
    }
   ],
   "source": [
    "print(row_list)"
   ]
  },
  {
   "cell_type": "code",
   "execution_count": 17,
   "metadata": {},
   "outputs": [],
   "source": [
    "pharmacy_df.to_csv('output.csv', encoding='utf-8-sig')"
   ]
  }
 ],
 "metadata": {
  "kernelspec": {
   "display_name": "Python 3.9.0 32-bit",
   "language": "python",
   "name": "python3"
  },
  "language_info": {
   "codemirror_mode": {
    "name": "ipython",
    "version": 3
   },
   "file_extension": ".py",
   "mimetype": "text/x-python",
   "name": "python",
   "nbconvert_exporter": "python",
   "pygments_lexer": "ipython3",
   "version": "3.9.0"
  },
  "orig_nbformat": 4,
  "vscode": {
   "interpreter": {
    "hash": "7989dea91ccefdfe8285fa2a7ade7747cd7a0aae02ea9913a93f6f05d5e304d8"
   }
  }
 },
 "nbformat": 4,
 "nbformat_minor": 2
}
